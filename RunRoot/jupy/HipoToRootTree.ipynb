{
 "cells": [
  {
   "cell_type": "markdown",
   "metadata": {},
   "source": [
    "# Creating Root tree files with hiporoot::ParticleTree\n",
    "\n",
    "First load the classes into the notebook\n",
    "\n"
   ]
  },
  {
   "cell_type": "code",
   "execution_count": null,
   "metadata": {},
   "outputs": [],
   "source": [
    "gROOT->ProcessLine(\".x $CLAS12TOOL/RunRoot/LoadClas12Root.C\");"
   ]
  },
  {
   "cell_type": "markdown",
   "metadata": {},
   "source": [
    "Create the tree maker with the full path to the hipo file you want to analyse. You may also give wildcard (*) arguments ."
   ]
  },
  {
   "cell_type": "code",
   "execution_count": null,
   "metadata": {},
   "outputs": [],
   "source": [
    "ParticleTree treemaker(\"/WHERE/IS/MY/HIPO/file.hipo\",\"/WHERE/SHOULD/I/PUT/MY/tree.root\");\n",
    "//ParticleTree treemaker(\"/work/jlab/clas12data/dst_skim4_5038.hipo\",\"tree.root\");"
   ]
  },
  {
   "cell_type": "markdown",
   "metadata": {},
   "source": [
    "Create some tree branches. There are predefined aliases for DST bank detector layers :\n",
    "\n",
    "        ECIN. , ECOUT. , PCAL. , FTOF1A. , FTOF1B. , FTOF2. , CTOF. , CND1. , CND2. , CND3. , FTCAL. , FTHODO. , HTCC. , LTCC. , DC. , CVT. \n",
    "        e.g. ECIN.Energy  , HTCC.Nphe , DC.TrChi2 , CTOF.Time\n",
    "\n",
    "The REC::Particle bank should be directly accessed with \n",
    "\n",
    "        PBANK.\n",
    "        e.g. PBANK.Pid , PBANK.Px\n",
    "        \n",
    "Ther REC::EVNT bank :\n",
    "        \n",
    "        EVNT.\n",
    "        e.g. EVNT.StartTime,\n",
    "        \n",
    "The region particle should be accessed with \n",
    "\n",
    "        P.\n",
    "        e.g. P.Theta , P.P , P.Phi , P.Region , P.Time , P.DetEnergy , P.DeltaEnergy , P.Path , P.Pid , P.CalcMass"
   ]
  },
  {
   "cell_type": "markdown",
   "metadata": {},
   "source": [
    "## Create branches\n",
    "\n",
    "Here we can create tree branches correlating particle and detector information.\n",
    "\n",
    "I can make a branch for any DST bank item using the aliases above.\n",
    "\n",
    "I can choose standard ROOT branch type e.g /F for float /I for int /D for double,...."
   ]
  },
  {
   "cell_type": "code",
   "execution_count": null,
   "metadata": {},
   "outputs": [],
   "source": [
    "treemaker.Branch(\"PBANK.Px/F\");\n",
    "treemaker.Branch(\"PBANK.Py/F\");\n",
    "treemaker.Branch(\"PBANK.Pz/F\");\n",
    "treemaker.Branch(\"PBANK.Vx/F\");\n",
    "treemaker.Branch(\"PBANK.Vy/F\");\n",
    "treemaker.Branch(\"PBANK.Vz/F\");\n",
    "treemaker.Branch(\"PBANK.Pid/I\");\n",
    "treemaker.Branch(\"P.Time/F\");\n",
    "treemaker.Branch(\"EVNT.StartTime/F\");\n",
    "treemaker.Branch(\"P.Path/F\");"
   ]
  },
  {
   "cell_type": "markdown",
   "metadata": {},
   "source": [
    "## Filter events\n",
    "Add some filter to the particle topology.\n",
    "\n",
    "Note the AddZeroOfRest function forces events with any other particle to be rejected i.e exclusive events.\n",
    "\n",
    "You can add as may AddAtLeastPid or AddExactPid conditions as you like."
   ]
  },
  {
   "cell_type": "code",
   "execution_count": null,
   "metadata": {},
   "outputs": [],
   "source": [
    "treemaker.AddAtLeastPid(211,1); //at least 1 pi+\n",
    "treemaker.AddExactPid(11,1);    //exactly 1 electron\n",
    "//treemaker.AddZeroOfRestPid();  //nothing else, if not this line any of anything else\n"
   ]
  },
  {
   "cell_type": "markdown",
   "metadata": {},
   "source": [
    "Now fill the root tree and save it to the output file"
   ]
  },
  {
   "cell_type": "code",
   "execution_count": null,
   "metadata": {},
   "outputs": [],
   "source": [
    "treemaker.Fill()"
   ]
  }
 ],
 "metadata": {
  "kernelspec": {
   "display_name": "ROOT C++",
   "language": "c++",
   "name": "root"
  },
  "language_info": {
   "codemirror_mode": "text/x-c++src",
   "file_extension": ".C",
   "mimetype": " text/x-c++src",
   "name": "c++"
  }
 },
 "nbformat": 4,
 "nbformat_minor": 2
}
