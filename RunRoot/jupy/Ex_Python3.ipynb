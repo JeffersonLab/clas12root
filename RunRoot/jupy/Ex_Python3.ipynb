{
 "cells": [
  {
   "cell_type": "code",
   "execution_count": null,
   "metadata": {},
   "outputs": [],
   "source": [
    "import ROOT"
   ]
  },
  {
   "cell_type": "code",
   "execution_count": null,
   "metadata": {},
   "outputs": [],
   "source": [
    "ROOT.gROOT.ProcessLine(\".x $CLAS12TOOL/RunRoot/importToROOT.C+\")"
   ]
  },
  {
   "cell_type": "code",
   "execution_count": null,
   "metadata": {},
   "outputs": [],
   "source": [
    "c12 = ROOT.clas12.clas12reader(\"/home/dglazier/fastdata/hipo4test/filtered/clas_004152.recon.hipo\");"
   ]
  },
  {
   "cell_type": "code",
   "execution_count": null,
   "metadata": {},
   "outputs": [],
   "source": [
    "el=ROOT.TLorentzVector(0,0,1,1)\n",
    "pr=ROOT.TLorentzVector(0,0,0,1)\n",
    "ROOT.gBenchmark.Start(\"python\")"
   ]
  },
  {
   "cell_type": "code",
   "execution_count": null,
   "metadata": {},
   "outputs": [],
   "source": [
    "while c12.next() :\n",
    "    c12.head().getStartTime()\n",
    "    \n",
    "    electrons=c12.getByID(11)\n",
    "    if electrons.size()==1 :\n",
    "        el.SetXYZM(electrons[0].par().getPx(),electrons[0].par().getPy(),electrons[0].par().getPz(), 0.00051099891)  \n",
    "    "
   ]
  },
  {
   "cell_type": "code",
   "execution_count": null,
   "metadata": {},
   "outputs": [],
   "source": [
    "ROOT.gBenchmark.Stop(\"python\")\n",
    "ROOT.gBenchmark.Print(\"python\")"
   ]
  }
 ],
 "metadata": {
  "kernelspec": {
   "display_name": "Python 3",
   "language": "python",
   "name": "python3"
  },
  "language_info": {
   "codemirror_mode": {
    "name": "ipython",
    "version": 2
   },
   "file_extension": ".py",
   "mimetype": "text/x-python",
   "name": "python",
   "nbconvert_exporter": "python",
   "pygments_lexer": "ipython2",
   "version": "2.7.15rc1"
  }
 },
 "nbformat": 4,
 "nbformat_minor": 2
}
