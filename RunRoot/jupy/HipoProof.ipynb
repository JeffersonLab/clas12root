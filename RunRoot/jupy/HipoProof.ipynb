{
 "cells": [
  {
   "cell_type": "markdown",
   "metadata": {},
   "source": [
    "## Run with PROOF and HipoSelector\n",
    "\n",
    "First Load classes and start PROOF session with 2 workers. (change the 2 to however many workers you like)"
   ]
  },
  {
   "cell_type": "code",
   "execution_count": null,
   "metadata": {},
   "outputs": [],
   "source": [
    "gROOT->ProcessLine(\".x $CLAS12TOOL/RunRoot/LoadClas12Root.C\");\n",
    "gROOT->ProcessLine(\".x $CLAS12TOOL/RunRoot/LoadProofLib.C(2)\");"
   ]
  },
  {
   "cell_type": "markdown",
   "metadata": {},
   "source": [
    "First you must create your own selector class by running CreateHipoSelector and editing the selector source code therein.\n",
    "\n",
    "Once that is done you can load it with the next line"
   ]
  },
  {
   "cell_type": "code",
   "execution_count": null,
   "metadata": {},
   "outputs": [],
   "source": [
    "gProof->Load(\"myFirstSelector.C+\");"
   ]
  },
  {
   "cell_type": "code",
   "execution_count": null,
   "metadata": {},
   "outputs": [],
   "source": [
    "clas12root::HipoChain chain;\n",
    "chain.Add(\"/WHERE/IS/MY/HIPO/file.hipo\");\n",
    "//chain.Add(\"/work/jlab/clas12data/dst_skim4_5038.hipo\");"
   ]
  },
  {
   "cell_type": "code",
   "execution_count": null,
   "metadata": {},
   "outputs": [],
   "source": [
    "clas12root::myFirstSelector sel(&chain);"
   ]
  },
  {
   "cell_type": "code",
   "execution_count": null,
   "metadata": {},
   "outputs": [],
   "source": [
    "gProof->Process(&sel,chain.GetNRecords());"
   ]
  }
 ],
 "metadata": {
  "kernelspec": {
   "display_name": "ROOT C++",
   "language": "c++",
   "name": "root"
  },
  "language_info": {
   "codemirror_mode": "text/x-c++src",
   "file_extension": ".C",
   "mimetype": " text/x-c++src",
   "name": "c++"
  }
 },
 "nbformat": 4,
 "nbformat_minor": 2
}
