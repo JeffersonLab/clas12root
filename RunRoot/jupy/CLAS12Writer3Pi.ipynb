{
 "cells": [
  {
   "cell_type": "markdown",
   "metadata": {},
   "source": [
    "# Writing out selected events to a hipo file\n",
    "First load the classes into the notebook\n"
   ]
  },
  {
   "cell_type": "code",
   "execution_count": null,
   "metadata": {},
   "outputs": [],
   "source": [
    "gROOT->ProcessLine(\".x $CLAS12ROOT/RunRoot/LoadClas12Root.C\");"
   ]
  },
  {
   "cell_type": "markdown",
   "metadata": {},
   "source": [
    "Now we can just use the notebook as an editor and change our script if we like.\n",
    "\n",
    "Open the ROOT script CLAS12Writer3Pi.C"
   ]
  },
  {
   "cell_type": "code",
   "execution_count": null,
   "metadata": {},
   "outputs": [],
   "source": [
    "%%file CLAS12Writer3Pi.C\n",
    "#include <cstdlib>\n",
    "#include <iostream>\n",
    "#include <chrono>\n",
    "#include <TFile.h>\n",
    "#include <TTree.h>\n",
    "#include <TApplication.h>\n",
    "#include <TROOT.h>\n",
    "#include <TDatabasePDG.h>\n",
    "#include <TLorentzVector.h>\n",
    "#include <TH1.h>\n",
    "#include <TChain.h>\n",
    "#include <TCanvas.h>\n",
    "#include <TBenchmark.h>\n",
    "#include \"clas12reader.h\"\n",
    "#include \"clas12writer.h\"\n",
    "\n",
    "using namespace clas12;\n",
    "\n",
    "\n",
    "void SetLorentzVector(TLorentzVector &p4,clas12::region_part_ptr rp){\n",
    "  p4.SetXYZM(rp->par()->getPx(),rp->par()->getPy(),\n",
    "\t      rp->par()->getPz(),p4.M());\n",
    "\n",
    "}\n",
    "\n",
    "void CLAS12Writer3Pi(std::string inFile, std::string outputFile){\n",
    "  // Record start time\n",
    "  auto start = std::chrono::high_resolution_clock::now();\n",
    "\n",
    "  //initialising clas12writer with path to output file\n",
    "  clas12writer c12writer(outputFile.c_str());\n",
    "\n",
    "  //can as writer not to write certain banks\n",
    "  //c12writer.skipBank(\"REC::Cherenkov\");\n",
    "  //c12writer.skipBank(\"REC::Scintillator\");\n",
    "\n",
    "  cout<<\"Analysing hipo file \"<<inFile<<endl;\n",
    "\n",
    "  //some particles\n",
    "  auto db=TDatabasePDG::Instance();\n",
    "  TLorentzVector beam(0,0,10.6,10.6);\n",
    "  TLorentzVector target(0,0,0,db->GetParticle(2212)->Mass());\n",
    "  TLorentzVector el(0,0,0,db->GetParticle(11)->Mass());\n",
    "  TLorentzVector pr(0,0,0,db->GetParticle(2212)->Mass());\n",
    "  TLorentzVector g1(0,0,0,0);\n",
    "  TLorentzVector g2(0,0,0,0);\n",
    "  TLorentzVector pip(0,0,0,db->GetParticle(211)->Mass());\n",
    "  TLorentzVector pim(0,0,0,db->GetParticle(-211)->Mass());\n",
    "   \n",
    "  gBenchmark->Start(\"timer\");\n",
    " \n",
    "  int counter = 0;\n",
    "  int writeCounter = 0;\n",
    "   \n",
    "\n",
    "  //create the event reader\n",
    "  clas12reader c12(inFile.c_str());\n",
    "\n",
    "  //assign a reader to the writer\n",
    "  c12writer.assignReader(c12);\n",
    "     \n",
    "      \n",
    "  while(c12.next()==true){\n",
    "\n",
    "    // get particles by type\n",
    "    auto electrons=c12.getByID(11);\n",
    "    auto gammas=c12.getByID(22);\n",
    "    auto protons=c12.getByID(2212);\n",
    "    auto pips=c12.getByID(211);\n",
    "    auto pims=c12.getByID(-211);\n",
    "       \n",
    "    if(electrons.size()==1 && gammas.size()==2 && protons.size()==1 &&\n",
    "       pips.size()==1 &&pims.size() == 1){\n",
    "       \n",
    "      // set the particle momentum\n",
    "      SetLorentzVector(el,electrons[0]);\n",
    "      SetLorentzVector(pr,protons[0]);\n",
    "      SetLorentzVector(g1,gammas[0]);\n",
    "      SetLorentzVector(g2,gammas[1]);\n",
    "      SetLorentzVector(pip,pips[0]);\n",
    "      SetLorentzVector(pim,pims[0]);\n",
    "\t\n",
    "      TLorentzVector miss=beam+target-el-pr-g1-g2-pip-pim;\n",
    "      if(TMath::Abs(miss.M2())<0.5){\n",
    "\t//write out an event\n",
    "\tc12writer.writeEvent(); \n",
    "\twriteCounter++;\n",
    "      }\n",
    "      counter++;\n",
    "    }\n",
    "  }\n",
    "  \n",
    "\n",
    "  //close writer\n",
    "  c12writer.closeWriter();\n",
    "\n",
    "  gBenchmark->Stop(\"timer\");\n",
    "  gBenchmark->Print(\"timer\");\n",
    "  \n",
    "  auto finish = std::chrono::high_resolution_clock::now();\n",
    "  std::chrono::duration<double> elapsed = finish - start;\n",
    "  std::cout << \"Elapsed time: \" << elapsed.count()<< \" read events = \"<<counter<<\" wrote events = \"<<writeCounter<<\" s\\n\";\n",
    "\n",
    "}\n"
   ]
  },
  {
   "cell_type": "markdown",
   "metadata": {},
   "source": [
    "Now we can run the ROOT script we just edited, replacing /WHERE/IS/MY/HIPO/inputFile.hipo and /WHERE/IS/MY/HIPO/outputFile.hipo with the paths to our input and output files."
   ]
  },
  {
   "cell_type": "code",
   "execution_count": null,
   "metadata": {},
   "outputs": [],
   "source": [
    "//gROOT->ProcessLine(\".x CLAS12Writer3Pi.C+(\\\"/WHERE/IS/MY/HIPO/inputFile.hipo\\\", \\\"/WHERE/IS/MY/HIPO/outputFile.hipo\\\")\");\n",
    "//gROOT->ProcessLine(\".x CLAS12Writer3Pi.C+(\\\"/w/work2/jlab/hallb/clas12/rg-a/trains/v16_v2/skim3_mesonex_vs/skim3_5205.hipo\\\",\\\"../bla.hipo\\\")\");\n",
    "//gROOT->ProcessLine(\".x CLAS12Writer3Pi.C+(\\\"/work/jlab/clas12data/v16/skim9_5038.hipo\\\",\\\"../bla.hipo\\\")\");\n",
    "gROOT->ProcessLine(\".x CLAS12Writer3Pi.C+(\\\"../bla.hipo\\\",\\\"../bla2.hipo\\\")\");"
   ]
  }
 ],
 "metadata": {
  "kernelspec": {
   "display_name": "ROOT C++",
   "language": "c++",
   "name": "root"
  },
  "language_info": {
   "codemirror_mode": "text/x-c++src",
   "file_extension": ".C",
   "mimetype": " text/x-c++src",
   "name": "c++"
  }
 },
 "nbformat": 4,
 "nbformat_minor": 2
}
