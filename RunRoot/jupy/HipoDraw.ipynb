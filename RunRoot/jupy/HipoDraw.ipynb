{
 "cells": [
  {
   "cell_type": "markdown",
   "metadata": {},
   "source": [
    "# Drawing histograms with hiporoot::ParticleHist\n",
    "\n",
    "First load the classes into the notebook\n"
   ]
  },
  {
   "cell_type": "code",
   "execution_count": null,
   "metadata": {},
   "outputs": [],
   "source": [
    "gROOT->ProcessLine(\".x $CLAS12TOOL/RunRoot/LoadClas12Root.C\");"
   ]
  },
  {
   "cell_type": "markdown",
   "metadata": {},
   "source": [
    "Create the histogram maker with the full path to the hipo file you want to analyse. You may also give wildcard (*) arguments ."
   ]
  },
  {
   "cell_type": "code",
   "execution_count": null,
   "metadata": {},
   "outputs": [],
   "source": [
    "ParticleHist hists(\"/WHERE/IS/MY/HIPO/file.hipo\");\n",
    "//ParticleHist hists(\"/work/jlab/clas12data/dst_skim4_5038.hipo\");"
   ]
  },
  {
   "cell_type": "markdown",
   "metadata": {},
   "source": [
    "Turn on javascript ROOT for interactive histograms"
   ]
  },
  {
   "cell_type": "code",
   "execution_count": null,
   "metadata": {},
   "outputs": [],
   "source": [
    "%jsroot"
   ]
  },
  {
   "cell_type": "markdown",
   "metadata": {},
   "source": [
    "Draw some histograms. There are predefined aliases for DST bank detector layers :\n",
    "\n",
    "        ECIN. , ECOUT. , PCAL. , FTOF1A. , FTOF1B. , FTOF2. , CTOF. , CND1. , CND2. , CND3. , FTCAL. , FTHODO. , HTCC. , LTCC. , DC. , CVT. \n",
    "        e.g. ECIN.Energy  , HTCC.Nphe , DC.TrChi2 , CTOF.Time\n",
    "\n",
    "The REC::Particle bank should be directly accessed with \n",
    "\n",
    "        PBANK.\n",
    "        e.g. PBANK.Pid , PBANK.Px\n",
    "        \n",
    "The region particle should be accessed with \n",
    "\n",
    "        P.\n",
    "        e.g. P.Theta , P.P , P.Phi , P.Region , P.Time , P.DetEnergy , P.DeltaEnergy , P.Path , P.Pid , P.CalcMass"
   ]
  },
  {
   "cell_type": "markdown",
   "metadata": {},
   "source": [
    "## Drawing hists 1\n",
    "First draw a 1D histogram of the time difference between FTOF1A and FTOF1B\n",
    "\n",
    "Second, draw a 2D hist of the time difference versus the particle theta, with colour map.\n",
    "\n",
    "Plot the 2 histograms side-by-side (2x1)"
   ]
  },
  {
   "cell_type": "code",
   "execution_count": null,
   "metadata": {
    "scrolled": false
   },
   "outputs": [],
   "source": [
    "hists.Hist1D(\"FTOF1B.Time-FTOF2.Time\",1000,-5,5,\"FTOF1B.Time-FTOF2.Time\");\n",
    "hists.Hist2D(\"FTOF1B.Time-FTOF2.Time:P.Theta*TMath::RadToDeg()\",50,-5,5,50,0,40,\"FTOF1B.Time-FTOF2.Time\")->Draw(\"(2x1)col1\");"
   ]
  },
  {
   "cell_type": "markdown",
   "metadata": {},
   "source": [
    "## Drawing hists 2\n",
    "Now draw the $\\theta$ versus $\\phi$ distributions for different particle types"
   ]
  },
  {
   "cell_type": "code",
   "execution_count": null,
   "metadata": {
    "scrolled": false
   },
   "outputs": [],
   "source": [
    "  hists.Hist2D(\"P.Theta*TMath::RadToDeg():P.Phi*TMath::RadToDeg()\",180,0,180,180,-180,180,\"P.Pid==11\");\n",
    "  hists.Hist2D(\"P.Theta*TMath::RadToDeg():P.Phi*TMath::RadToDeg()\",180,0,180,180,-180,180,\"P.Pid==-11\");\n",
    "  hists.Hist2D(\"P.Theta*TMath::RadToDeg():P.Phi*TMath::RadToDeg()\",180,0,180,180,-180,180,\"P.Pid==22\");\n",
    "  hists.Hist2D(\"P.Theta*TMath::RadToDeg():P.Phi*TMath::RadToDeg()\",180,0,180,180,-180,180,\"P.Pid==2212\");\n",
    "  hists.Hist2D(\"P.Theta*TMath::RadToDeg():P.Phi*TMath::RadToDeg()\",180,0,180,180,-180,180,\"P.Pid==211\");\n",
    "  hists.Hist2D(\"P.Theta*TMath::RadToDeg():P.Phi*TMath::RadToDeg()\",180,0,180,180,-180,180,\"P.Pid==-211\");\n",
    "  hists.Hist2D(\"P.Theta*TMath::RadToDeg():P.Phi*TMath::RadToDeg()\",180,0,180,180,-180,180,\"P.Pid==321\");\n",
    "  hists.Hist2D(\"P.Theta*TMath::RadToDeg():P.Phi*TMath::RadToDeg()\",180,0,180,180,-180,180,\"P.Pid==-321\")->Draw(\"(4x2)col1\");"
   ]
  },
  {
   "cell_type": "markdown",
   "metadata": {},
   "source": [
    "# Drawing hists 3\n",
    "\n",
    "The particle beta and measured mass can be returned from the region particle too. \n",
    "Here we draw the beta and mass versus particle momentum for each of the 3 detector regions."
   ]
  },
  {
   "cell_type": "code",
   "execution_count": null,
   "metadata": {
    "scrolled": false
   },
   "outputs": [],
   "source": [
    " hists.Hist2D(\"P.P:P.Beta\",100,0,10,100,0.1,2,\"P.Beta&&P.Region==FT\");\n",
    " hists.Hist2D(\"P.P:P.Beta\",100,0,10,100,0.1,2,\"P.Beta&&P.Region==FD\");\n",
    " hists.Hist2D(\"P.P:P.Beta\",100,0,10,100,0.1,2,\"P.Beta&&P.Region==CD\");\n",
    " hists.Hist2D(\"P.P:P.CalcMass\",100,0,10,100,-1,2,\"P.CalcMass&&P.Region==FT\");\n",
    " hists.Hist2D(\"P.P:P.CalcMass\",100,0,10,100,-1,2,\"P.CalcMass&&P.Region==FD\");\n",
    " hists.Hist2D(\"P.P:P.CalcMass\",100,0,10,100,-1,2,\"P.CalcMass&&P.Region==CD\")->Draw(\"(3x2)col1\");\n"
   ]
  },
  {
   "cell_type": "markdown",
   "metadata": {},
   "source": [
    "Save all the files to a destination of your choice"
   ]
  },
  {
   "cell_type": "code",
   "execution_count": null,
   "metadata": {},
   "outputs": [],
   "source": [
    "hists.Save(\"hists.root\")"
   ]
  }
 ],
 "metadata": {
  "kernelspec": {
   "display_name": "ROOT C++",
   "language": "c++",
   "name": "root"
  },
  "language_info": {
   "codemirror_mode": "text/x-c++src",
   "file_extension": ".C",
   "mimetype": " text/x-c++src",
   "name": "c++"
  }
 },
 "nbformat": 4,
 "nbformat_minor": 2
}
